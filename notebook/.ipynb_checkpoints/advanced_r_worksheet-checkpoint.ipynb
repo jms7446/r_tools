{
 "cells": [
  {
   "cell_type": "code",
   "execution_count": 2,
   "metadata": {
    "ExecuteTime": {
     "end_time": "2020-01-29T04:25:52.251308Z",
     "start_time": "2020-01-29T04:25:51.321Z"
    }
   },
   "outputs": [],
   "source": [
    "library(glue)\n",
    "library(tidyverse)\n",
    "library(lobstr)\n",
    "library(rlang)\n",
    "library(purrr)\n",
    "library(scales)\n",
    "library(memoise)\n",
    "library(sloop)\n",
    "library(codetools)"
   ]
  },
  {
   "cell_type": "code",
   "execution_count": 3,
   "metadata": {
    "ExecuteTime": {
     "end_time": "2020-01-29T04:25:53.494818Z",
     "start_time": "2020-01-29T04:25:53.454Z"
    }
   },
   "outputs": [],
   "source": [
    "x <- 10"
   ]
  },
  {
   "cell_type": "code",
   "execution_count": 18,
   "metadata": {
    "ExecuteTime": {
     "end_time": "2020-01-29T04:32:06.863235Z",
     "start_time": "2020-01-29T04:32:06.803Z"
    }
   },
   "outputs": [
    {
     "data": {
      "text/html": [
       "10"
      ],
      "text/latex": [
       "10"
      ],
      "text/markdown": [
       "10"
      ],
      "text/plain": [
       "[1] 10"
      ]
     },
     "metadata": {},
     "output_type": "display_data"
    }
   ],
   "source": [
    "eval(expr(x), env(y = 1, z = 2))"
   ]
  },
  {
   "cell_type": "code",
   "execution_count": 20,
   "metadata": {
    "ExecuteTime": {
     "end_time": "2020-01-29T04:36:18.065650Z",
     "start_time": "2020-01-29T04:36:18.016Z"
    }
   },
   "outputs": [
    {
     "name": "stderr",
     "output_type": "stream",
     "text": [
      "Warning message in rm(x, y):\n",
      "“object 'x' not found”\n",
      "Warning message in rm(x, y):\n",
      "“object 'y' not found”\n"
     ]
    }
   ],
   "source": [
    "rm(x, y)"
   ]
  },
  {
   "cell_type": "code",
   "execution_count": 29,
   "metadata": {
    "ExecuteTime": {
     "end_time": "2020-01-29T04:38:22.256226Z",
     "start_time": "2020-01-29T04:38:22.214Z"
    }
   },
   "outputs": [],
   "source": [
    "foo <- local({\n",
    "    x <- 10\n",
    "    y <- 200\n",
    "    x + y\n",
    "})"
   ]
  },
  {
   "cell_type": "code",
   "execution_count": 30,
   "metadata": {
    "ExecuteTime": {
     "end_time": "2020-01-29T04:38:22.663373Z",
     "start_time": "2020-01-29T04:38:22.619Z"
    }
   },
   "outputs": [
    {
     "data": {
      "text/html": [
       "210"
      ],
      "text/latex": [
       "210"
      ],
      "text/markdown": [
       "210"
      ],
      "text/plain": [
       "[1] 210"
      ]
     },
     "metadata": {},
     "output_type": "display_data"
    }
   ],
   "source": [
    "foo"
   ]
  },
  {
   "cell_type": "code",
   "execution_count": 32,
   "metadata": {
    "ExecuteTime": {
     "end_time": "2020-01-29T04:38:37.695940Z",
     "start_time": "2020-01-29T04:38:37.648Z"
    }
   },
   "outputs": [
    {
     "data": {
      "text/html": [
       "<pre class=language-r><code>function (expr, envir = new.env()) \n",
       "eval.parent(substitute(eval(quote(expr), envir)))</code></pre>"
      ],
      "text/latex": [
       "\\begin{minted}{r}\n",
       "function (expr, envir = new.env()) \n",
       "eval.parent(substitute(eval(quote(expr), envir)))\n",
       "\\end{minted}"
      ],
      "text/markdown": [
       "```r\n",
       "function (expr, envir = new.env()) \n",
       "eval.parent(substitute(eval(quote(expr), envir)))\n",
       "```"
      ],
      "text/plain": [
       "function (expr, envir = new.env()) \n",
       "eval.parent(substitute(eval(quote(expr), envir)))\n",
       "<bytecode: 0xebe258>\n",
       "<environment: namespace:base>"
      ]
     },
     "metadata": {},
     "output_type": "display_data"
    }
   ],
   "source": [
    "local"
   ]
  },
  {
   "cell_type": "code",
   "execution_count": 44,
   "metadata": {
    "ExecuteTime": {
     "end_time": "2020-01-29T04:44:32.713056Z",
     "start_time": "2020-01-29T04:44:32.663Z"
    }
   },
   "outputs": [],
   "source": [
    "local2 <- function(expr, env = caller_env()) {\n",
    "    new_env <- env(env)\n",
    "    eval(enexpr(expr), new_env)\n",
    "}"
   ]
  },
  {
   "cell_type": "code",
   "execution_count": 52,
   "metadata": {
    "ExecuteTime": {
     "end_time": "2020-01-29T05:15:12.436626Z",
     "start_time": "2020-01-29T05:15:12.397Z"
    }
   },
   "outputs": [
    {
     "ename": "ERROR",
     "evalue": "Error in eval(expr, envir, enclos): object 'x' not found\n",
     "output_type": "error",
     "traceback": [
      "Error in eval(expr, envir, enclos): object 'x' not found\nTraceback:\n"
     ]
    }
   ],
   "source": [
    "ff <- function(env = caller_env()) {\n",
    "    map(parse_exprs(\"x <- 2; y <- 3\"), eval, env)\n",
    "    eval(expr(x <- 4), env)\n",
    "    c(x, y)\n",
    "}\n",
    "c(x, y)\n"
   ]
  },
  {
   "cell_type": "code",
   "execution_count": 45,
   "metadata": {
    "ExecuteTime": {
     "end_time": "2020-01-29T04:44:33.334267Z",
     "start_time": "2020-01-29T04:44:33.271Z"
    }
   },
   "outputs": [
    {
     "data": {
      "text/html": [
       "210"
      ],
      "text/latex": [
       "210"
      ],
      "text/markdown": [
       "210"
      ],
      "text/plain": [
       "[1] 210"
      ]
     },
     "metadata": {},
     "output_type": "display_data"
    },
    {
     "name": "stderr",
     "output_type": "stream",
     "text": [
      "Warning message in rm(x, y):\n",
      "“object 'x' not found”\n",
      "Warning message in rm(x, y):\n",
      "“object 'y' not found”\n"
     ]
    }
   ],
   "source": [
    "foo <- local2({\n",
    "    x <- 10\n",
    "    y <- 200\n",
    "    x + y\n",
    "})\n",
    "foo\n",
    "rm(x, y)"
   ]
  },
  {
   "cell_type": "code",
   "execution_count": 53,
   "metadata": {
    "ExecuteTime": {
     "end_time": "2020-01-29T05:23:53.824630Z",
     "start_time": "2020-01-29T05:23:53.664Z"
    }
   },
   "outputs": [],
   "source": [
    "get2 <- function(name, env) {\n",
    "    eval(sym(name), env)\n",
    "}"
   ]
  },
  {
   "cell_type": "code",
   "execution_count": 54,
   "metadata": {
    "ExecuteTime": {
     "end_time": "2020-01-29T05:24:18.751394Z",
     "start_time": "2020-01-29T05:24:18.707Z"
    }
   },
   "outputs": [],
   "source": [
    "my_env <- env(x = 1, y = 2)"
   ]
  },
  {
   "cell_type": "code",
   "execution_count": 60,
   "metadata": {
    "ExecuteTime": {
     "end_time": "2020-01-29T05:24:52.092854Z",
     "start_time": "2020-01-29T05:24:52.037Z"
    }
   },
   "outputs": [
    {
     "data": {
      "text/html": [
       "1"
      ],
      "text/latex": [
       "1"
      ],
      "text/markdown": [
       "1"
      ],
      "text/plain": [
       "[1] 1"
      ]
     },
     "metadata": {},
     "output_type": "display_data"
    }
   ],
   "source": [
    "get2(\"x\", my_env)"
   ]
  },
  {
   "cell_type": "code",
   "execution_count": 63,
   "metadata": {
    "ExecuteTime": {
     "end_time": "2020-01-29T05:27:32.021475Z",
     "start_time": "2020-01-29T05:27:31.951Z"
    }
   },
   "outputs": [],
   "source": [
    "assign2 <- function(name, value, env) {\n",
    "    var <- sym(name)\n",
    "    statement <- expr(!!var <- !!value)\n",
    "    eval(statement, env)\n",
    "}"
   ]
  },
  {
   "cell_type": "code",
   "execution_count": 69,
   "metadata": {
    "ExecuteTime": {
     "end_time": "2020-01-29T05:28:06.596859Z",
     "start_time": "2020-01-29T05:28:06.534Z"
    }
   },
   "outputs": [],
   "source": [
    "assign2(\"z\", 4, my_env)"
   ]
  },
  {
   "cell_type": "code",
   "execution_count": 70,
   "metadata": {
    "ExecuteTime": {
     "end_time": "2020-01-29T05:28:07.429668Z",
     "start_time": "2020-01-29T05:28:07.373Z"
    }
   },
   "outputs": [
    {
     "data": {
      "text/html": [
       "4"
      ],
      "text/latex": [
       "4"
      ],
      "text/markdown": [
       "4"
      ],
      "text/plain": [
       "[1] 4"
      ]
     },
     "metadata": {},
     "output_type": "display_data"
    }
   ],
   "source": [
    "get2(\"z\", my_env)"
   ]
  },
  {
   "cell_type": "code",
   "execution_count": 75,
   "metadata": {
    "ExecuteTime": {
     "end_time": "2020-01-29T06:10:49.167349Z",
     "start_time": "2020-01-29T06:10:49.139Z"
    }
   },
   "outputs": [
    {
     "data": {
      "text/html": [
       "11"
      ],
      "text/latex": [
       "11"
      ],
      "text/markdown": [
       "11"
      ],
      "text/plain": [
       "[1] 11"
      ]
     },
     "metadata": {},
     "output_type": "display_data"
    }
   ],
   "source": [
    "eval_tidy(new_quosure(expr(x + y), env(x = 1, y = 10)))"
   ]
  },
  {
   "cell_type": "code",
   "execution_count": 76,
   "metadata": {
    "ExecuteTime": {
     "end_time": "2020-01-29T06:13:41.053292Z",
     "start_time": "2020-01-29T06:13:41.030Z"
    }
   },
   "outputs": [],
   "source": [
    "f <- function(...) {\n",
    "    x <- 1\n",
    "    g(..., f = x)\n",
    "}\n",
    "g <- function(...) {\n",
    "    enquos(...)\n",
    "}"
   ]
  },
  {
   "cell_type": "code",
   "execution_count": 77,
   "metadata": {
    "ExecuteTime": {
     "end_time": "2020-01-29T06:13:59.063803Z",
     "start_time": "2020-01-29T06:13:59.030Z"
    },
    "scrolled": true
   },
   "outputs": [
    {
     "data": {
      "text/plain": [
       "<list_of<quosure>>\n",
       "\n",
       "$global\n",
       "\u001b[1m<quosure>\u001b[22m\n",
       "expr: \u001b[39m^x\u001b[39m\n",
       "env:  global\n",
       "\n",
       "$f\n",
       "\u001b[1m<quosure>\u001b[22m\n",
       "expr: \u001b[34m^x\u001b[39m\n",
       "env:  \u001b[34m0x39a49c0\u001b[39m\n"
      ]
     },
     "metadata": {},
     "output_type": "display_data"
    }
   ],
   "source": [
    "x <- 0\n",
    "qs <- f(global = x)\n",
    "qs"
   ]
  },
  {
   "cell_type": "code",
   "execution_count": 78,
   "metadata": {
    "ExecuteTime": {
     "end_time": "2020-01-29T06:19:33.446097Z",
     "start_time": "2020-01-29T06:19:33.420Z"
    }
   },
   "outputs": [],
   "source": [
    "f <- ~runif(3)"
   ]
  },
  {
   "cell_type": "code",
   "execution_count": 80,
   "metadata": {
    "ExecuteTime": {
     "end_time": "2020-01-29T06:19:39.209695Z",
     "start_time": "2020-01-29T06:19:39.181Z"
    }
   },
   "outputs": [
    {
     "name": "stdout",
     "output_type": "stream",
     "text": [
      "Class 'formula'  language ~runif(3)\n",
      "  ..- attr(*, \".Environment\")=<environment: R_GlobalEnv> \n"
     ]
    }
   ],
   "source": [
    "str(f)"
   ]
  },
  {
   "cell_type": "code",
   "execution_count": 84,
   "metadata": {
    "ExecuteTime": {
     "end_time": "2020-01-29T07:41:04.785269Z",
     "start_time": "2020-01-29T07:41:04.768Z"
    }
   },
   "outputs": [],
   "source": [
    "q4 <- new_quosure(expr(x + y + z))"
   ]
  },
  {
   "cell_type": "code",
   "execution_count": 85,
   "metadata": {
    "ExecuteTime": {
     "end_time": "2020-01-29T07:44:35.917494Z",
     "start_time": "2020-01-29T07:44:35.907Z"
    }
   },
   "outputs": [
    {
     "data": {
      "text/plain": [
       "<environment: R_GlobalEnv>"
      ]
     },
     "metadata": {},
     "output_type": "display_data"
    }
   ],
   "source": [
    "attr(q4, \".Environment\")"
   ]
  },
  {
   "cell_type": "code",
   "execution_count": 86,
   "metadata": {
    "ExecuteTime": {
     "end_time": "2020-01-29T07:46:02.705599Z",
     "start_time": "2020-01-29T07:46:02.679Z"
    }
   },
   "outputs": [
    {
     "data": {
      "text/plain": [
       "<environment: R_GlobalEnv>"
      ]
     },
     "metadata": {},
     "output_type": "display_data"
    }
   ],
   "source": [
    "get_env(q4)"
   ]
  },
  {
   "cell_type": "code",
   "execution_count": 87,
   "metadata": {
    "ExecuteTime": {
     "end_time": "2020-01-29T07:46:07.370988Z",
     "start_time": "2020-01-29T07:46:07.353Z"
    }
   },
   "outputs": [
    {
     "data": {
      "text/plain": [
       "x + y + z"
      ]
     },
     "metadata": {},
     "output_type": "display_data"
    }
   ],
   "source": [
    "get_expr(q4)"
   ]
  },
  {
   "cell_type": "code",
   "execution_count": 88,
   "metadata": {
    "ExecuteTime": {
     "end_time": "2020-01-29T07:48:08.791677Z",
     "start_time": "2020-01-29T07:48:08.782Z"
    }
   },
   "outputs": [],
   "source": [
    "q2 <- new_quosure(expr(x), env(x = 1))"
   ]
  },
  {
   "cell_type": "code",
   "execution_count": 89,
   "metadata": {
    "ExecuteTime": {
     "end_time": "2020-01-29T07:48:20.385388Z",
     "start_time": "2020-01-29T07:48:20.373Z"
    }
   },
   "outputs": [],
   "source": [
    "q3 <- new_quosure(expr(x), env(x = 10))"
   ]
  },
  {
   "cell_type": "code",
   "execution_count": 90,
   "metadata": {
    "ExecuteTime": {
     "end_time": "2020-01-29T07:48:40.866044Z",
     "start_time": "2020-01-29T07:48:40.853Z"
    }
   },
   "outputs": [],
   "source": [
    "x <- expr(!!q2 + !!q3)"
   ]
  },
  {
   "cell_type": "code",
   "execution_count": 91,
   "metadata": {
    "ExecuteTime": {
     "end_time": "2020-01-29T07:48:59.418274Z",
     "start_time": "2020-01-29T07:48:59.398Z"
    }
   },
   "outputs": [
    {
     "data": {
      "text/html": [
       "11"
      ],
      "text/latex": [
       "11"
      ],
      "text/markdown": [
       "11"
      ],
      "text/plain": [
       "[1] 11"
      ]
     },
     "metadata": {},
     "output_type": "display_data"
    }
   ],
   "source": [
    "eval_tidy(x)"
   ]
  },
  {
   "cell_type": "code",
   "execution_count": 92,
   "metadata": {
    "ExecuteTime": {
     "end_time": "2020-01-29T07:50:00.483205Z",
     "start_time": "2020-01-29T07:50:00.454Z"
    }
   },
   "outputs": [
    {
     "name": "stdout",
     "output_type": "stream",
     "text": [
      "(\u001b[34m^x\u001b[39m) + (\u001b[32m^x\u001b[39m)\n"
     ]
    }
   ],
   "source": [
    "expr_print(x)"
   ]
  },
  {
   "cell_type": "code",
   "execution_count": 93,
   "metadata": {
    "ExecuteTime": {
     "end_time": "2020-01-29T07:50:50.157560Z",
     "start_time": "2020-01-29T07:50:50.125Z"
    }
   },
   "outputs": [
    {
     "data": {
      "text/html": [
       "1"
      ],
      "text/latex": [
       "1"
      ],
      "text/markdown": [
       "1"
      ],
      "text/plain": [
       "[1] 1"
      ]
     },
     "metadata": {},
     "output_type": "display_data"
    }
   ],
   "source": [
    "q1 <- new_quosure(expr(x), env(x = 1))\n",
    "eval_tidy(q1)"
   ]
  },
  {
   "cell_type": "code",
   "execution_count": null,
   "metadata": {},
   "outputs": [],
   "source": [
    "enenv <- function(x) {\n",
    "    get_env(enquo(x))\n",
    "}"
   ]
  },
  {
   "cell_type": "code",
   "execution_count": 94,
   "metadata": {
    "ExecuteTime": {
     "end_time": "2020-01-29T08:00:13.818333Z",
     "start_time": "2020-01-29T08:00:13.788Z"
    }
   },
   "outputs": [],
   "source": [
    "q1 <- new_quosure(expr(x * y), env(x = 100))"
   ]
  },
  {
   "cell_type": "code",
   "execution_count": 95,
   "metadata": {
    "ExecuteTime": {
     "end_time": "2020-01-29T08:00:23.440567Z",
     "start_time": "2020-01-29T08:00:23.414Z"
    }
   },
   "outputs": [],
   "source": [
    "df <- data.frame(y = 1:10)"
   ]
  },
  {
   "cell_type": "code",
   "execution_count": 96,
   "metadata": {
    "ExecuteTime": {
     "end_time": "2020-01-29T08:00:47.072773Z",
     "start_time": "2020-01-29T08:00:47.022Z"
    }
   },
   "outputs": [
    {
     "data": {
      "text/html": [
       "<ol class=list-inline>\n",
       "\t<li>100</li>\n",
       "\t<li>200</li>\n",
       "\t<li>300</li>\n",
       "\t<li>400</li>\n",
       "\t<li>500</li>\n",
       "\t<li>600</li>\n",
       "\t<li>700</li>\n",
       "\t<li>800</li>\n",
       "\t<li>900</li>\n",
       "\t<li>1000</li>\n",
       "</ol>\n"
      ],
      "text/latex": [
       "\\begin{enumerate*}\n",
       "\\item 100\n",
       "\\item 200\n",
       "\\item 300\n",
       "\\item 400\n",
       "\\item 500\n",
       "\\item 600\n",
       "\\item 700\n",
       "\\item 800\n",
       "\\item 900\n",
       "\\item 1000\n",
       "\\end{enumerate*}\n"
      ],
      "text/markdown": [
       "1. 100\n",
       "2. 200\n",
       "3. 300\n",
       "4. 400\n",
       "5. 500\n",
       "6. 600\n",
       "7. 700\n",
       "8. 800\n",
       "9. 900\n",
       "10. 1000\n",
       "\n",
       "\n"
      ],
      "text/plain": [
       " [1]  100  200  300  400  500  600  700  800  900 1000"
      ]
     },
     "metadata": {},
     "output_type": "display_data"
    }
   ],
   "source": [
    "eval_tidy(q1, df)"
   ]
  },
  {
   "cell_type": "code",
   "execution_count": 97,
   "metadata": {
    "ExecuteTime": {
     "end_time": "2020-01-29T08:02:32.130105Z",
     "start_time": "2020-01-29T08:02:32.079Z"
    }
   },
   "outputs": [],
   "source": [
    "with2 <- function(data, expr) {\n",
    "    expr <- enquo(expr)\n",
    "    eval_tidy(expr, data)\n",
    "}"
   ]
  },
  {
   "cell_type": "code",
   "execution_count": 105,
   "metadata": {
    "ExecuteTime": {
     "end_time": "2020-01-29T08:07:53.124905Z",
     "start_time": "2020-01-29T08:07:53.078Z"
    }
   },
   "outputs": [
    {
     "data": {
      "text/html": [
       "<ol class=list-inline>\n",
       "\t<li>100</li>\n",
       "\t<li>200</li>\n",
       "\t<li>300</li>\n",
       "\t<li>400</li>\n",
       "\t<li>500</li>\n",
       "\t<li>600</li>\n",
       "\t<li>700</li>\n",
       "\t<li>800</li>\n",
       "\t<li>900</li>\n",
       "\t<li>1000</li>\n",
       "</ol>\n"
      ],
      "text/latex": [
       "\\begin{enumerate*}\n",
       "\\item 100\n",
       "\\item 200\n",
       "\\item 300\n",
       "\\item 400\n",
       "\\item 500\n",
       "\\item 600\n",
       "\\item 700\n",
       "\\item 800\n",
       "\\item 900\n",
       "\\item 1000\n",
       "\\end{enumerate*}\n"
      ],
      "text/markdown": [
       "1. 100\n",
       "2. 200\n",
       "3. 300\n",
       "4. 400\n",
       "5. 500\n",
       "6. 600\n",
       "7. 700\n",
       "8. 800\n",
       "9. 900\n",
       "10. 1000\n",
       "\n",
       "\n"
      ],
      "text/plain": [
       " [1]  100  200  300  400  500  600  700  800  900 1000"
      ]
     },
     "metadata": {},
     "output_type": "display_data"
    }
   ],
   "source": [
    "y <- 100\n",
    "with2(df, y * x)"
   ]
  },
  {
   "cell_type": "code",
   "execution_count": 106,
   "metadata": {
    "ExecuteTime": {
     "end_time": "2020-01-29T08:10:24.561348Z",
     "start_time": "2020-01-29T08:10:24.514Z"
    }
   },
   "outputs": [],
   "source": [
    "sample_df <- data.frame(a = 1:5, b = 5:1, c = c(5, 3, 1, 4, 1))"
   ]
  },
  {
   "cell_type": "code",
   "execution_count": 107,
   "metadata": {
    "ExecuteTime": {
     "end_time": "2020-01-29T08:10:51.863974Z",
     "start_time": "2020-01-29T08:10:51.810Z"
    }
   },
   "outputs": [
    {
     "data": {
      "text/html": [
       "<table>\n",
       "<caption>A data.frame: 2 × 3</caption>\n",
       "<thead>\n",
       "\t<tr><th></th><th scope=col>a</th><th scope=col>b</th><th scope=col>c</th></tr>\n",
       "\t<tr><th></th><th scope=col>&lt;int&gt;</th><th scope=col>&lt;int&gt;</th><th scope=col>&lt;dbl&gt;</th></tr>\n",
       "</thead>\n",
       "<tbody>\n",
       "\t<tr><th scope=row>4</th><td>4</td><td>2</td><td>4</td></tr>\n",
       "\t<tr><th scope=row>5</th><td>5</td><td>1</td><td>1</td></tr>\n",
       "</tbody>\n",
       "</table>\n"
      ],
      "text/latex": [
       "A data.frame: 2 × 3\n",
       "\\begin{tabular}{r|lll}\n",
       "  & a & b & c\\\\\n",
       "  & <int> & <int> & <dbl>\\\\\n",
       "\\hline\n",
       "\t4 & 4 & 2 & 4\\\\\n",
       "\t5 & 5 & 1 & 1\\\\\n",
       "\\end{tabular}\n"
      ],
      "text/markdown": [
       "\n",
       "A data.frame: 2 × 3\n",
       "\n",
       "| <!--/--> | a &lt;int&gt; | b &lt;int&gt; | c &lt;dbl&gt; |\n",
       "|---|---|---|---|\n",
       "| 4 | 4 | 2 | 4 |\n",
       "| 5 | 5 | 1 | 1 |\n",
       "\n"
      ],
      "text/plain": [
       "  a b c\n",
       "4 4 2 4\n",
       "5 5 1 1"
      ]
     },
     "metadata": {},
     "output_type": "display_data"
    }
   ],
   "source": [
    "subset(sample_df, a >= 4)"
   ]
  },
  {
   "cell_type": "code",
   "execution_count": 111,
   "metadata": {
    "ExecuteTime": {
     "end_time": "2020-01-29T08:21:11.954028Z",
     "start_time": "2020-01-29T08:21:11.880Z"
    }
   },
   "outputs": [
    {
     "data": {
      "text/html": [
       "<table>\n",
       "<caption>A data.frame: 1 × 3</caption>\n",
       "<thead>\n",
       "\t<tr><th></th><th scope=col>a</th><th scope=col>b</th><th scope=col>c</th></tr>\n",
       "\t<tr><th></th><th scope=col>&lt;int&gt;</th><th scope=col>&lt;int&gt;</th><th scope=col>&lt;dbl&gt;</th></tr>\n",
       "</thead>\n",
       "<tbody>\n",
       "\t<tr><th scope=row>3</th><td>3</td><td>3</td><td>1</td></tr>\n",
       "</tbody>\n",
       "</table>\n"
      ],
      "text/latex": [
       "A data.frame: 1 × 3\n",
       "\\begin{tabular}{r|lll}\n",
       "  & a & b & c\\\\\n",
       "  & <int> & <int> & <dbl>\\\\\n",
       "\\hline\n",
       "\t3 & 3 & 3 & 1\\\\\n",
       "\\end{tabular}\n"
      ],
      "text/markdown": [
       "\n",
       "A data.frame: 1 × 3\n",
       "\n",
       "| <!--/--> | a &lt;int&gt; | b &lt;int&gt; | c &lt;dbl&gt; |\n",
       "|---|---|---|---|\n",
       "| 3 | 3 | 3 | 1 |\n",
       "\n"
      ],
      "text/plain": [
       "  a b c\n",
       "3 3 3 1"
      ]
     },
     "metadata": {},
     "output_type": "display_data"
    }
   ],
   "source": [
    "subset(sample_df, a == b)"
   ]
  },
  {
   "cell_type": "code",
   "execution_count": 112,
   "metadata": {
    "ExecuteTime": {
     "end_time": "2020-01-29T08:22:08.350083Z",
     "start_time": "2020-01-29T08:22:08.285Z"
    }
   },
   "outputs": [],
   "source": [
    "subset2 <- function(data, expr) {\n",
    "    expr = enquo(expr)\n",
    "    data[eval_tidy(expr, data), ]\n",
    "}"
   ]
  },
  {
   "cell_type": "code",
   "execution_count": 113,
   "metadata": {
    "ExecuteTime": {
     "end_time": "2020-01-29T08:23:31.823268Z",
     "start_time": "2020-01-29T08:23:31.752Z"
    }
   },
   "outputs": [
    {
     "data": {
      "text/html": [
       "<table>\n",
       "<caption>A data.frame: 2 × 3</caption>\n",
       "<thead>\n",
       "\t<tr><th></th><th scope=col>a</th><th scope=col>b</th><th scope=col>c</th></tr>\n",
       "\t<tr><th></th><th scope=col>&lt;int&gt;</th><th scope=col>&lt;int&gt;</th><th scope=col>&lt;dbl&gt;</th></tr>\n",
       "</thead>\n",
       "<tbody>\n",
       "\t<tr><th scope=row>4</th><td>4</td><td>2</td><td>4</td></tr>\n",
       "\t<tr><th scope=row>5</th><td>5</td><td>1</td><td>1</td></tr>\n",
       "</tbody>\n",
       "</table>\n"
      ],
      "text/latex": [
       "A data.frame: 2 × 3\n",
       "\\begin{tabular}{r|lll}\n",
       "  & a & b & c\\\\\n",
       "  & <int> & <int> & <dbl>\\\\\n",
       "\\hline\n",
       "\t4 & 4 & 2 & 4\\\\\n",
       "\t5 & 5 & 1 & 1\\\\\n",
       "\\end{tabular}\n"
      ],
      "text/markdown": [
       "\n",
       "A data.frame: 2 × 3\n",
       "\n",
       "| <!--/--> | a &lt;int&gt; | b &lt;int&gt; | c &lt;dbl&gt; |\n",
       "|---|---|---|---|\n",
       "| 4 | 4 | 2 | 4 |\n",
       "| 5 | 5 | 1 | 1 |\n",
       "\n"
      ],
      "text/plain": [
       "  a b c\n",
       "4 4 2 4\n",
       "5 5 1 1"
      ]
     },
     "metadata": {},
     "output_type": "display_data"
    }
   ],
   "source": [
    "subset2(sample_df, a >= 4)"
   ]
  },
  {
   "cell_type": "code",
   "execution_count": 114,
   "metadata": {
    "ExecuteTime": {
     "end_time": "2020-01-29T08:23:34.610182Z",
     "start_time": "2020-01-29T08:23:34.544Z"
    }
   },
   "outputs": [
    {
     "data": {
      "text/html": [
       "<table>\n",
       "<caption>A data.frame: 1 × 3</caption>\n",
       "<thead>\n",
       "\t<tr><th></th><th scope=col>a</th><th scope=col>b</th><th scope=col>c</th></tr>\n",
       "\t<tr><th></th><th scope=col>&lt;int&gt;</th><th scope=col>&lt;int&gt;</th><th scope=col>&lt;dbl&gt;</th></tr>\n",
       "</thead>\n",
       "<tbody>\n",
       "\t<tr><th scope=row>3</th><td>3</td><td>3</td><td>1</td></tr>\n",
       "</tbody>\n",
       "</table>\n"
      ],
      "text/latex": [
       "A data.frame: 1 × 3\n",
       "\\begin{tabular}{r|lll}\n",
       "  & a & b & c\\\\\n",
       "  & <int> & <int> & <dbl>\\\\\n",
       "\\hline\n",
       "\t3 & 3 & 3 & 1\\\\\n",
       "\\end{tabular}\n"
      ],
      "text/markdown": [
       "\n",
       "A data.frame: 1 × 3\n",
       "\n",
       "| <!--/--> | a &lt;int&gt; | b &lt;int&gt; | c &lt;dbl&gt; |\n",
       "|---|---|---|---|\n",
       "| 3 | 3 | 3 | 1 |\n",
       "\n"
      ],
      "text/plain": [
       "  a b c\n",
       "3 3 3 1"
      ]
     },
     "metadata": {},
     "output_type": "display_data"
    }
   ],
   "source": [
    "subset2(sample_df, a == b)"
   ]
  },
  {
   "cell_type": "code",
   "execution_count": 115,
   "metadata": {
    "ExecuteTime": {
     "end_time": "2020-01-29T08:25:35.780294Z",
     "start_time": "2020-01-29T08:25:35.715Z"
    }
   },
   "outputs": [],
   "source": [
    "df <- data.frame(x = c(2, 3, 1), y = runif(3))"
   ]
  },
  {
   "cell_type": "code",
   "execution_count": 116,
   "metadata": {
    "ExecuteTime": {
     "end_time": "2020-01-29T08:25:49.525323Z",
     "start_time": "2020-01-29T08:25:49.457Z"
    }
   },
   "outputs": [
    {
     "data": {
      "text/html": [
       "<table>\n",
       "<caption>A data.frame: 3 × 3</caption>\n",
       "<thead>\n",
       "\t<tr><th scope=col>x</th><th scope=col>y</th><th scope=col>y2</th></tr>\n",
       "\t<tr><th scope=col>&lt;dbl&gt;</th><th scope=col>&lt;dbl&gt;</th><th scope=col>&lt;dbl&gt;</th></tr>\n",
       "</thead>\n",
       "<tbody>\n",
       "\t<tr><td>-2</td><td>0.85645928</td><td>1.71291857</td></tr>\n",
       "\t<tr><td>-3</td><td>0.02761552</td><td>0.05523104</td></tr>\n",
       "\t<tr><td>-1</td><td>0.94908456</td><td>1.89816911</td></tr>\n",
       "</tbody>\n",
       "</table>\n"
      ],
      "text/latex": [
       "A data.frame: 3 × 3\n",
       "\\begin{tabular}{lll}\n",
       " x & y & y2\\\\\n",
       " <dbl> & <dbl> & <dbl>\\\\\n",
       "\\hline\n",
       "\t -2 & 0.85645928 & 1.71291857\\\\\n",
       "\t -3 & 0.02761552 & 0.05523104\\\\\n",
       "\t -1 & 0.94908456 & 1.89816911\\\\\n",
       "\\end{tabular}\n"
      ],
      "text/markdown": [
       "\n",
       "A data.frame: 3 × 3\n",
       "\n",
       "| x &lt;dbl&gt; | y &lt;dbl&gt; | y2 &lt;dbl&gt; |\n",
       "|---|---|---|\n",
       "| -2 | 0.85645928 | 1.71291857 |\n",
       "| -3 | 0.02761552 | 0.05523104 |\n",
       "| -1 | 0.94908456 | 1.89816911 |\n",
       "\n"
      ],
      "text/plain": [
       "  x  y          y2        \n",
       "1 -2 0.85645928 1.71291857\n",
       "2 -3 0.02761552 0.05523104\n",
       "3 -1 0.94908456 1.89816911"
      ]
     },
     "metadata": {},
     "output_type": "display_data"
    }
   ],
   "source": [
    "transform(df, x = -x, y2 = 2 * y)"
   ]
  },
  {
   "cell_type": "code",
   "execution_count": 126,
   "metadata": {
    "ExecuteTime": {
     "end_time": "2020-01-29T08:50:10.186973Z",
     "start_time": "2020-01-29T08:50:10.152Z"
    }
   },
   "outputs": [],
   "source": [
    "transform2 <- function(.data, ...) {\n",
    "    dots <- enquos(...)\n",
    "    for (i in seq_along(dots)) {\n",
    "        name <- names(dots)[[i]]\n",
    "        dot <- dots[[i]]\n",
    "        .data[[name]] <- eval_tidy(dot, .data)\n",
    "    }\n",
    "    .data\n",
    "}"
   ]
  },
  {
   "cell_type": "code",
   "execution_count": 127,
   "metadata": {
    "ExecuteTime": {
     "end_time": "2020-01-29T08:50:12.835741Z",
     "start_time": "2020-01-29T08:50:12.786Z"
    }
   },
   "outputs": [
    {
     "data": {
      "text/html": [
       "<table>\n",
       "<caption>A data.frame: 3 × 3</caption>\n",
       "<thead>\n",
       "\t<tr><th scope=col>x</th><th scope=col>y</th><th scope=col>y2</th></tr>\n",
       "\t<tr><th scope=col>&lt;dbl&gt;</th><th scope=col>&lt;dbl&gt;</th><th scope=col>&lt;dbl&gt;</th></tr>\n",
       "</thead>\n",
       "<tbody>\n",
       "\t<tr><td>-2</td><td>0.85645928</td><td>1.71291857</td></tr>\n",
       "\t<tr><td>-3</td><td>0.02761552</td><td>0.05523104</td></tr>\n",
       "\t<tr><td>-1</td><td>0.94908456</td><td>1.89816911</td></tr>\n",
       "</tbody>\n",
       "</table>\n"
      ],
      "text/latex": [
       "A data.frame: 3 × 3\n",
       "\\begin{tabular}{lll}\n",
       " x & y & y2\\\\\n",
       " <dbl> & <dbl> & <dbl>\\\\\n",
       "\\hline\n",
       "\t -2 & 0.85645928 & 1.71291857\\\\\n",
       "\t -3 & 0.02761552 & 0.05523104\\\\\n",
       "\t -1 & 0.94908456 & 1.89816911\\\\\n",
       "\\end{tabular}\n"
      ],
      "text/markdown": [
       "\n",
       "A data.frame: 3 × 3\n",
       "\n",
       "| x &lt;dbl&gt; | y &lt;dbl&gt; | y2 &lt;dbl&gt; |\n",
       "|---|---|---|\n",
       "| -2 | 0.85645928 | 1.71291857 |\n",
       "| -3 | 0.02761552 | 0.05523104 |\n",
       "| -1 | 0.94908456 | 1.89816911 |\n",
       "\n"
      ],
      "text/plain": [
       "  x  y          y2        \n",
       "1 -2 0.85645928 1.71291857\n",
       "2 -3 0.02761552 0.05523104\n",
       "3 -1 0.94908456 1.89816911"
      ]
     },
     "metadata": {},
     "output_type": "display_data"
    }
   ],
   "source": [
    "transform2(df, x = -x, y2 = 2 * y)"
   ]
  },
  {
   "cell_type": "code",
   "execution_count": 125,
   "metadata": {
    "ExecuteTime": {
     "end_time": "2020-01-29T08:36:31.217623Z",
     "start_time": "2020-01-29T08:36:31.191Z"
    }
   },
   "outputs": [
    {
     "data": {
      "text/html": [
       "<table>\n",
       "<caption>A data.frame: 3 × 2</caption>\n",
       "<thead>\n",
       "\t<tr><th scope=col>x</th><th scope=col>y</th></tr>\n",
       "\t<tr><th scope=col>&lt;dbl&gt;</th><th scope=col>&lt;dbl&gt;</th></tr>\n",
       "</thead>\n",
       "<tbody>\n",
       "\t<tr><td>2</td><td>0.85645928</td></tr>\n",
       "\t<tr><td>3</td><td>0.02761552</td></tr>\n",
       "\t<tr><td>1</td><td>0.94908456</td></tr>\n",
       "</tbody>\n",
       "</table>\n"
      ],
      "text/latex": [
       "A data.frame: 3 × 2\n",
       "\\begin{tabular}{ll}\n",
       " x & y\\\\\n",
       " <dbl> & <dbl>\\\\\n",
       "\\hline\n",
       "\t 2 & 0.85645928\\\\\n",
       "\t 3 & 0.02761552\\\\\n",
       "\t 1 & 0.94908456\\\\\n",
       "\\end{tabular}\n"
      ],
      "text/markdown": [
       "\n",
       "A data.frame: 3 × 2\n",
       "\n",
       "| x &lt;dbl&gt; | y &lt;dbl&gt; |\n",
       "|---|---|\n",
       "| 2 | 0.85645928 |\n",
       "| 3 | 0.02761552 |\n",
       "| 1 | 0.94908456 |\n",
       "\n"
      ],
      "text/plain": [
       "  x y         \n",
       "1 2 0.85645928\n",
       "2 3 0.02761552\n",
       "3 1 0.94908456"
      ]
     },
     "metadata": {},
     "output_type": "display_data"
    }
   ],
   "source": [
    "df"
   ]
  },
  {
   "cell_type": "code",
   "execution_count": 128,
   "metadata": {
    "ExecuteTime": {
     "end_time": "2020-01-29T08:52:11.556428Z",
     "start_time": "2020-01-29T08:52:11.515Z"
    }
   },
   "outputs": [
    {
     "data": {
      "text/html": [
       "<table>\n",
       "<caption>A data.frame: 1 × 3</caption>\n",
       "<thead>\n",
       "\t<tr><th></th><th scope=col>b</th><th scope=col>c</th><th scope=col>d</th></tr>\n",
       "\t<tr><th></th><th scope=col>&lt;dbl&gt;</th><th scope=col>&lt;dbl&gt;</th><th scope=col>&lt;dbl&gt;</th></tr>\n",
       "</thead>\n",
       "<tbody>\n",
       "\t<tr><th scope=row>1</th><td>2</td><td>3</td><td>4</td></tr>\n",
       "</tbody>\n",
       "</table>\n"
      ],
      "text/latex": [
       "A data.frame: 1 × 3\n",
       "\\begin{tabular}{r|lll}\n",
       "  & b & c & d\\\\\n",
       "  & <dbl> & <dbl> & <dbl>\\\\\n",
       "\\hline\n",
       "\t1 & 2 & 3 & 4\\\\\n",
       "\\end{tabular}\n"
      ],
      "text/markdown": [
       "\n",
       "A data.frame: 1 × 3\n",
       "\n",
       "| <!--/--> | b &lt;dbl&gt; | c &lt;dbl&gt; | d &lt;dbl&gt; |\n",
       "|---|---|---|---|\n",
       "| 1 | 2 | 3 | 4 |\n",
       "\n"
      ],
      "text/plain": [
       "  b c d\n",
       "1 2 3 4"
      ]
     },
     "metadata": {},
     "output_type": "display_data"
    }
   ],
   "source": [
    "df <- data.frame(a = 1, b = 2, c = 3, d = 4, e = 5)\n",
    "subset(df, select = b:d)"
   ]
  },
  {
   "cell_type": "code",
   "execution_count": 129,
   "metadata": {
    "ExecuteTime": {
     "end_time": "2020-01-29T08:54:24.886514Z",
     "start_time": "2020-01-29T08:54:24.850Z"
    }
   },
   "outputs": [
    {
     "data": {
      "text/html": [
       "<table>\n",
       "<caption>A data.frame: 1 × 3</caption>\n",
       "<thead>\n",
       "\t<tr><th scope=col>b</th><th scope=col>c</th><th scope=col>d</th></tr>\n",
       "\t<tr><th scope=col>&lt;dbl&gt;</th><th scope=col>&lt;dbl&gt;</th><th scope=col>&lt;dbl&gt;</th></tr>\n",
       "</thead>\n",
       "<tbody>\n",
       "\t<tr><td>2</td><td>3</td><td>4</td></tr>\n",
       "</tbody>\n",
       "</table>\n"
      ],
      "text/latex": [
       "A data.frame: 1 × 3\n",
       "\\begin{tabular}{lll}\n",
       " b & c & d\\\\\n",
       " <dbl> & <dbl> & <dbl>\\\\\n",
       "\\hline\n",
       "\t 2 & 3 & 4\\\\\n",
       "\\end{tabular}\n"
      ],
      "text/markdown": [
       "\n",
       "A data.frame: 1 × 3\n",
       "\n",
       "| b &lt;dbl&gt; | c &lt;dbl&gt; | d &lt;dbl&gt; |\n",
       "|---|---|---|\n",
       "| 2 | 3 | 4 |\n",
       "\n"
      ],
      "text/plain": [
       "  b c d\n",
       "1 2 3 4"
      ]
     },
     "metadata": {},
     "output_type": "display_data"
    }
   ],
   "source": [
    "select(df, b:d)"
   ]
  },
  {
   "cell_type": "code",
   "execution_count": 145,
   "metadata": {
    "ExecuteTime": {
     "end_time": "2020-01-29T09:10:44.489035Z",
     "start_time": "2020-01-29T09:10:44.455Z"
    }
   },
   "outputs": [],
   "source": [
    "select2 <- function(.data, ...) {\n",
    "    vars <- set_names(seq_along(.data), names(.data))\n",
    "    cols <- enquos(...) %>% \n",
    "        map(eval_tidy, vars) %>% \n",
    "        unlist()\n",
    "    .data[, cols]\n",
    "}"
   ]
  },
  {
   "cell_type": "code",
   "execution_count": 147,
   "metadata": {
    "ExecuteTime": {
     "end_time": "2020-01-29T09:11:03.593833Z",
     "start_time": "2020-01-29T09:11:03.552Z"
    }
   },
   "outputs": [
    {
     "data": {
      "text/html": [
       "<table>\n",
       "<caption>A data.frame: 1 × 4</caption>\n",
       "<thead>\n",
       "\t<tr><th scope=col>a</th><th scope=col>b</th><th scope=col>d</th><th scope=col>e</th></tr>\n",
       "\t<tr><th scope=col>&lt;dbl&gt;</th><th scope=col>&lt;dbl&gt;</th><th scope=col>&lt;dbl&gt;</th><th scope=col>&lt;dbl&gt;</th></tr>\n",
       "</thead>\n",
       "<tbody>\n",
       "\t<tr><td>1</td><td>2</td><td>4</td><td>5</td></tr>\n",
       "</tbody>\n",
       "</table>\n"
      ],
      "text/latex": [
       "A data.frame: 1 × 4\n",
       "\\begin{tabular}{llll}\n",
       " a & b & d & e\\\\\n",
       " <dbl> & <dbl> & <dbl> & <dbl>\\\\\n",
       "\\hline\n",
       "\t 1 & 2 & 4 & 5\\\\\n",
       "\\end{tabular}\n"
      ],
      "text/markdown": [
       "\n",
       "A data.frame: 1 × 4\n",
       "\n",
       "| a &lt;dbl&gt; | b &lt;dbl&gt; | d &lt;dbl&gt; | e &lt;dbl&gt; |\n",
       "|---|---|---|---|\n",
       "| 1 | 2 | 4 | 5 |\n",
       "\n"
      ],
      "text/plain": [
       "  a b d e\n",
       "1 1 2 4 5"
      ]
     },
     "metadata": {},
     "output_type": "display_data"
    }
   ],
   "source": [
    "select2(df, a:b, d:e)"
   ]
  },
  {
   "cell_type": "code",
   "execution_count": 133,
   "metadata": {
    "ExecuteTime": {
     "end_time": "2020-01-29T08:58:18.119028Z",
     "start_time": "2020-01-29T08:58:18.086Z"
    }
   },
   "outputs": [],
   "source": [
    "vars <- as.list(set_names(seq_along(df), names(df)))"
   ]
  },
  {
   "cell_type": "code",
   "execution_count": 141,
   "metadata": {
    "ExecuteTime": {
     "end_time": "2020-01-29T09:02:40.263843Z",
     "start_time": "2020-01-29T09:02:40.230Z"
    }
   },
   "outputs": [
    {
     "name": "stdout",
     "output_type": "stream",
     "text": [
      " int [1:3] 2 3 4\n"
     ]
    }
   ],
   "source": [
    "str(unlist(map(list(new_quosure(expr(b:d))), eval_tidy, vars)))"
   ]
  },
  {
   "cell_type": "code",
   "execution_count": 144,
   "metadata": {
    "ExecuteTime": {
     "end_time": "2020-01-29T09:03:35.619254Z",
     "start_time": "2020-01-29T09:03:35.582Z"
    }
   },
   "outputs": [
    {
     "data": {
      "text/html": [
       "<ol class=list-inline>\n",
       "\t<li>1</li>\n",
       "\t<li>2</li>\n",
       "\t<li>4</li>\n",
       "\t<li>5</li>\n",
       "\t<li>6</li>\n",
       "</ol>\n"
      ],
      "text/latex": [
       "\\begin{enumerate*}\n",
       "\\item 1\n",
       "\\item 2\n",
       "\\item 4\n",
       "\\item 5\n",
       "\\item 6\n",
       "\\end{enumerate*}\n"
      ],
      "text/markdown": [
       "1. 1\n",
       "2. 2\n",
       "3. 4\n",
       "4. 5\n",
       "5. 6\n",
       "\n",
       "\n"
      ],
      "text/plain": [
       "[1] 1 2 4 5 6"
      ]
     },
     "metadata": {},
     "output_type": "display_data"
    }
   ],
   "source": [
    "unlist(list(1:2, 4:6))"
   ]
  },
  {
   "cell_type": "code",
   "execution_count": 148,
   "metadata": {
    "ExecuteTime": {
     "end_time": "2020-01-29T09:29:14.564404Z",
     "start_time": "2020-01-29T09:29:14.543Z"
    }
   },
   "outputs": [
    {
     "data": {
      "text/html": [
       "<table>\n",
       "<caption>A data.frame: 1 × 5</caption>\n",
       "<thead>\n",
       "\t<tr><th scope=col>a</th><th scope=col>b</th><th scope=col>c</th><th scope=col>d</th><th scope=col>e</th></tr>\n",
       "\t<tr><th scope=col>&lt;dbl&gt;</th><th scope=col>&lt;dbl&gt;</th><th scope=col>&lt;dbl&gt;</th><th scope=col>&lt;dbl&gt;</th><th scope=col>&lt;dbl&gt;</th></tr>\n",
       "</thead>\n",
       "<tbody>\n",
       "\t<tr><td>1</td><td>2</td><td>3</td><td>4</td><td>5</td></tr>\n",
       "</tbody>\n",
       "</table>\n"
      ],
      "text/latex": [
       "A data.frame: 1 × 5\n",
       "\\begin{tabular}{lllll}\n",
       " a & b & c & d & e\\\\\n",
       " <dbl> & <dbl> & <dbl> & <dbl> & <dbl>\\\\\n",
       "\\hline\n",
       "\t 1 & 2 & 3 & 4 & 5\\\\\n",
       "\\end{tabular}\n"
      ],
      "text/markdown": [
       "\n",
       "A data.frame: 1 × 5\n",
       "\n",
       "| a &lt;dbl&gt; | b &lt;dbl&gt; | c &lt;dbl&gt; | d &lt;dbl&gt; | e &lt;dbl&gt; |\n",
       "|---|---|---|---|---|\n",
       "| 1 | 2 | 3 | 4 | 5 |\n",
       "\n"
      ],
      "text/plain": [
       "  a b c d e\n",
       "1 1 2 3 4 5"
      ]
     },
     "metadata": {},
     "output_type": "display_data"
    }
   ],
   "source": []
  },
  {
   "cell_type": "code",
   "execution_count": 152,
   "metadata": {
    "ExecuteTime": {
     "end_time": "2020-01-29T09:30:12.513321Z",
     "start_time": "2020-01-29T09:30:12.488Z"
    }
   },
   "outputs": [],
   "source": [
    "df <- data.frame(x = c(2, 3, 2, 1), y = runif(4))"
   ]
  },
  {
   "cell_type": "code",
   "execution_count": 153,
   "metadata": {
    "ExecuteTime": {
     "end_time": "2020-01-29T09:30:13.065612Z",
     "start_time": "2020-01-29T09:30:13.009Z"
    }
   },
   "outputs": [
    {
     "data": {
      "text/html": [
       "<table>\n",
       "<caption>A data.frame: 4 × 2</caption>\n",
       "<thead>\n",
       "\t<tr><th scope=col>x</th><th scope=col>y</th></tr>\n",
       "\t<tr><th scope=col>&lt;dbl&gt;</th><th scope=col>&lt;dbl&gt;</th></tr>\n",
       "</thead>\n",
       "<tbody>\n",
       "\t<tr><td>2</td><td>0.7717387</td></tr>\n",
       "\t<tr><td>3</td><td>0.4220439</td></tr>\n",
       "\t<tr><td>2</td><td>0.7056023</td></tr>\n",
       "\t<tr><td>1</td><td>0.1336300</td></tr>\n",
       "</tbody>\n",
       "</table>\n"
      ],
      "text/latex": [
       "A data.frame: 4 × 2\n",
       "\\begin{tabular}{ll}\n",
       " x & y\\\\\n",
       " <dbl> & <dbl>\\\\\n",
       "\\hline\n",
       "\t 2 & 0.7717387\\\\\n",
       "\t 3 & 0.4220439\\\\\n",
       "\t 2 & 0.7056023\\\\\n",
       "\t 1 & 0.1336300\\\\\n",
       "\\end{tabular}\n"
      ],
      "text/markdown": [
       "\n",
       "A data.frame: 4 × 2\n",
       "\n",
       "| x &lt;dbl&gt; | y &lt;dbl&gt; |\n",
       "|---|---|\n",
       "| 2 | 0.7717387 |\n",
       "| 3 | 0.4220439 |\n",
       "| 2 | 0.7056023 |\n",
       "| 1 | 0.1336300 |\n",
       "\n"
      ],
      "text/plain": [
       "  x y        \n",
       "1 2 0.7717387\n",
       "2 3 0.4220439\n",
       "3 2 0.7056023\n",
       "4 1 0.1336300"
      ]
     },
     "metadata": {},
     "output_type": "display_data"
    }
   ],
   "source": [
    "df"
   ]
  },
  {
   "cell_type": "code",
   "execution_count": 158,
   "metadata": {
    "ExecuteTime": {
     "end_time": "2020-01-29T09:30:38.942462Z",
     "start_time": "2020-01-29T09:30:38.916Z"
    }
   },
   "outputs": [
    {
     "data": {
      "text/html": [
       "<table>\n",
       "<caption>A data.frame: 4 × 2</caption>\n",
       "<thead>\n",
       "\t<tr><th scope=col>x</th><th scope=col>y</th></tr>\n",
       "\t<tr><th scope=col>&lt;dbl&gt;</th><th scope=col>&lt;dbl&gt;</th></tr>\n",
       "</thead>\n",
       "<tbody>\n",
       "\t<tr><td>1</td><td>0.1336300</td></tr>\n",
       "\t<tr><td>2</td><td>0.7717387</td></tr>\n",
       "\t<tr><td>2</td><td>0.7056023</td></tr>\n",
       "\t<tr><td>3</td><td>0.4220439</td></tr>\n",
       "</tbody>\n",
       "</table>\n"
      ],
      "text/latex": [
       "A data.frame: 4 × 2\n",
       "\\begin{tabular}{ll}\n",
       " x & y\\\\\n",
       " <dbl> & <dbl>\\\\\n",
       "\\hline\n",
       "\t 1 & 0.1336300\\\\\n",
       "\t 2 & 0.7717387\\\\\n",
       "\t 2 & 0.7056023\\\\\n",
       "\t 3 & 0.4220439\\\\\n",
       "\\end{tabular}\n"
      ],
      "text/markdown": [
       "\n",
       "A data.frame: 4 × 2\n",
       "\n",
       "| x &lt;dbl&gt; | y &lt;dbl&gt; |\n",
       "|---|---|\n",
       "| 1 | 0.1336300 |\n",
       "| 2 | 0.7717387 |\n",
       "| 2 | 0.7056023 |\n",
       "| 3 | 0.4220439 |\n",
       "\n"
      ],
      "text/plain": [
       "  x y        \n",
       "1 1 0.1336300\n",
       "2 2 0.7717387\n",
       "3 2 0.7056023\n",
       "4 3 0.4220439"
      ]
     },
     "metadata": {},
     "output_type": "display_data"
    }
   ],
   "source": [
    "arrange(df, x, x-y)"
   ]
  },
  {
   "cell_type": "code",
   "execution_count": null,
   "metadata": {},
   "outputs": [],
   "source": [
    "arrange2 <- function(.data, ..., .na.last = TRUE) {\n",
    "    args <- enquos(...)\n",
    "    \n",
    "}"
   ]
  },
  {
   "cell_type": "code",
   "execution_count": 159,
   "metadata": {
    "ExecuteTime": {
     "end_time": "2020-01-29T09:37:10.904397Z",
     "start_time": "2020-01-29T09:37:10.893Z"
    }
   },
   "outputs": [],
   "source": [
    "resample <- function(df, n) {\n",
    "    idx <- sample(nrow(df), n, replace = TRUE)\n",
    "    df[idx, , drop = FALSE]\n",
    "}"
   ]
  },
  {
   "cell_type": "code",
   "execution_count": 165,
   "metadata": {
    "ExecuteTime": {
     "end_time": "2020-01-29T09:41:56.698632Z",
     "start_time": "2020-01-29T09:41:56.691Z"
    }
   },
   "outputs": [],
   "source": [
    "subsample <- function(df, cond, n = nrow(df)) {\n",
    "    df <- subset2(df, cond)\n",
    "    resample(df, n = n)\n",
    "}"
   ]
  },
  {
   "cell_type": "code",
   "execution_count": 166,
   "metadata": {
    "ExecuteTime": {
     "end_time": "2020-01-29T09:41:57.237466Z",
     "start_time": "2020-01-29T09:41:57.219Z"
    }
   },
   "outputs": [
    {
     "data": {
      "text/html": [
       "<table>\n",
       "<caption>A data.frame: 0 × 2</caption>\n",
       "<thead>\n",
       "\t<tr><th scope=col>x</th><th scope=col>y</th></tr>\n",
       "\t<tr><th scope=col>&lt;dbl&gt;</th><th scope=col>&lt;int&gt;</th></tr>\n",
       "</thead>\n",
       "<tbody>\n",
       "</tbody>\n",
       "</table>\n"
      ],
      "text/latex": [
       "A data.frame: 0 × 2\n",
       "\\begin{tabular}{ll}\n",
       " x & y\\\\\n",
       " <dbl> & <int>\\\\\n",
       "\\hline\n",
       "\\end{tabular}\n"
      ],
      "text/markdown": [
       "\n",
       "A data.frame: 0 × 2\n",
       "\n",
       "| x &lt;dbl&gt; | y &lt;int&gt; |\n",
       "|---|---|\n",
       "\n"
      ],
      "text/plain": [
       "     x y"
      ]
     },
     "metadata": {},
     "output_type": "display_data"
    }
   ],
   "source": [
    "df <- data.frame(x = c(1, 1, 1, 2, 2), y = 1:5)\n",
    "subsample(df, x == 1)"
   ]
  },
  {
   "cell_type": "code",
   "execution_count": null,
   "metadata": {},
   "outputs": [],
   "source": []
  }
 ],
 "metadata": {
  "kernelspec": {
   "display_name": "R",
   "language": "R",
   "name": "ir"
  },
  "language_info": {
   "codemirror_mode": "r",
   "file_extension": ".r",
   "mimetype": "text/x-r-source",
   "name": "R",
   "pygments_lexer": "r",
   "version": "3.6.1"
  },
  "toc": {
   "base_numbering": 1,
   "nav_menu": {},
   "number_sections": true,
   "sideBar": true,
   "skip_h1_title": false,
   "title_cell": "Table of Contents",
   "title_sidebar": "Contents",
   "toc_cell": false,
   "toc_position": {},
   "toc_section_display": true,
   "toc_window_display": false
  }
 },
 "nbformat": 4,
 "nbformat_minor": 2
}
