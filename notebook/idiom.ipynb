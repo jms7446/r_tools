{
 "cells": [
  {
   "cell_type": "code",
   "execution_count": 2,
   "metadata": {
    "ExecuteTime": {
     "end_time": "2020-01-16T06:33:19.964804Z",
     "start_time": "2020-01-16T06:33:18.522Z"
    }
   },
   "outputs": [],
   "source": [
    "library(tidyverse)"
   ]
  },
  {
   "cell_type": "code",
   "execution_count": 3,
   "metadata": {
    "ExecuteTime": {
     "end_time": "2020-01-16T06:33:20.794524Z",
     "start_time": "2020-01-16T06:33:19.377Z"
    }
   },
   "outputs": [],
   "source": [
    "source(\"../common.R\")"
   ]
  },
  {
   "cell_type": "markdown",
   "metadata": {},
   "source": [
    "## matrix"
   ]
  },
  {
   "cell_type": "code",
   "execution_count": 4,
   "metadata": {
    "ExecuteTime": {
     "end_time": "2020-01-16T06:33:22.807212Z",
     "start_time": "2020-01-16T06:33:21.346Z"
    }
   },
   "outputs": [
    {
     "data": {
      "text/html": [
       "<table>\n",
       "<caption>A tibble: 5 × 3</caption>\n",
       "<thead>\n",
       "\t<tr><th scope=col>p10</th><th scope=col>p50</th><th scope=col>p90</th></tr>\n",
       "\t<tr><th scope=col>&lt;dbl&gt;</th><th scope=col>&lt;dbl&gt;</th><th scope=col>&lt;dbl&gt;</th></tr>\n",
       "</thead>\n",
       "<tbody>\n",
       "\t<tr><td>-1.0548664</td><td> 0.10055860</td><td>1.397621</td></tr>\n",
       "\t<tr><td>-0.6898131</td><td> 0.03606958</td><td>0.923185</td></tr>\n",
       "\t<tr><td>-1.8381568</td><td> 0.30585580</td><td>1.541700</td></tr>\n",
       "\t<tr><td>-0.8304662</td><td>-0.15930864</td><td>1.355677</td></tr>\n",
       "\t<tr><td>-0.6968692</td><td> 0.25984513</td><td>1.573970</td></tr>\n",
       "</tbody>\n",
       "</table>\n"
      ],
      "text/latex": [
       "A tibble: 5 × 3\n",
       "\\begin{tabular}{lll}\n",
       " p10 & p50 & p90\\\\\n",
       " <dbl> & <dbl> & <dbl>\\\\\n",
       "\\hline\n",
       "\t -1.0548664 &  0.10055860 & 1.397621\\\\\n",
       "\t -0.6898131 &  0.03606958 & 0.923185\\\\\n",
       "\t -1.8381568 &  0.30585580 & 1.541700\\\\\n",
       "\t -0.8304662 & -0.15930864 & 1.355677\\\\\n",
       "\t -0.6968692 &  0.25984513 & 1.573970\\\\\n",
       "\\end{tabular}\n"
      ],
      "text/markdown": [
       "\n",
       "A tibble: 5 × 3\n",
       "\n",
       "| p10 &lt;dbl&gt; | p50 &lt;dbl&gt; | p90 &lt;dbl&gt; |\n",
       "|---|---|---|\n",
       "| -1.0548664 |  0.10055860 | 1.397621 |\n",
       "| -0.6898131 |  0.03606958 | 0.923185 |\n",
       "| -1.8381568 |  0.30585580 | 1.541700 |\n",
       "| -0.8304662 | -0.15930864 | 1.355677 |\n",
       "| -0.6968692 |  0.25984513 | 1.573970 |\n",
       "\n"
      ],
      "text/plain": [
       "  p10        p50         p90     \n",
       "1 -1.0548664  0.10055860 1.397621\n",
       "2 -0.6898131  0.03606958 0.923185\n",
       "3 -1.8381568  0.30585580 1.541700\n",
       "4 -0.8304662 -0.15930864 1.355677\n",
       "5 -0.6968692  0.25984513 1.573970"
      ]
     },
     "metadata": {},
     "output_type": "display_data"
    }
   ],
   "source": [
    "# t(apply ...) pattern\n",
    "matrix(rnorm(100), ncol = 5) %>% \n",
    "    apply(2, quantile, prob = c(0.1, 0.5, 0.9)) %>% t() %>% \n",
    "    as_tibble_with_name(c('p10', 'p50', 'p90'))"
   ]
  },
  {
   "cell_type": "code",
   "execution_count": null,
   "metadata": {},
   "outputs": [],
   "source": []
  }
 ],
 "metadata": {
  "kernelspec": {
   "display_name": "R",
   "language": "R",
   "name": "ir"
  },
  "language_info": {
   "codemirror_mode": "r",
   "file_extension": ".r",
   "mimetype": "text/x-r-source",
   "name": "R",
   "pygments_lexer": "r",
   "version": "3.6.1"
  },
  "toc": {
   "base_numbering": 1,
   "nav_menu": {},
   "number_sections": true,
   "sideBar": true,
   "skip_h1_title": false,
   "title_cell": "Table of Contents",
   "title_sidebar": "Contents",
   "toc_cell": false,
   "toc_position": {},
   "toc_section_display": true,
   "toc_window_display": false
  }
 },
 "nbformat": 4,
 "nbformat_minor": 2
}
